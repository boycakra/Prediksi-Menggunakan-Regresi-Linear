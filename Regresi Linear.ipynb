{
 "cells": [
  {
   "cell_type": "code",
   "execution_count": 1,
   "metadata": {},
   "outputs": [
    {
     "name": "stderr",
     "output_type": "stream",
     "text": [
      "Matplotlib is building the font cache; this may take a moment.\n"
     ]
    }
   ],
   "source": [
    "import matplotlib.pyplot as plt\n",
    "import pandas as pd\n",
    "import numpy as np\n",
    "from numpy.random import randint "
   ]
  },
  {
   "cell_type": "markdown",
   "metadata": {},
   "source": [
    "## Data Pendapatan"
   ]
  },
  {
   "cell_type": "code",
   "execution_count": 10,
   "metadata": {
    "scrolled": true
   },
   "outputs": [
    {
     "name": "stdout",
     "output_type": "stream",
     "text": [
      "baris 12 kolom 4\n"
     ]
    },
    {
     "data": {
      "text/html": [
       "<div>\n",
       "<style scoped>\n",
       "    .dataframe tbody tr th:only-of-type {\n",
       "        vertical-align: middle;\n",
       "    }\n",
       "\n",
       "    .dataframe tbody tr th {\n",
       "        vertical-align: top;\n",
       "    }\n",
       "\n",
       "    .dataframe thead th {\n",
       "        text-align: right;\n",
       "    }\n",
       "</style>\n",
       "<table border=\"1\" class=\"dataframe\">\n",
       "  <thead>\n",
       "    <tr style=\"text-align: right;\">\n",
       "      <th></th>\n",
       "      <th>Bulan</th>\n",
       "      <th>Pendapatan</th>\n",
       "      <th>x</th>\n",
       "      <th>y</th>\n",
       "    </tr>\n",
       "  </thead>\n",
       "  <tbody>\n",
       "    <tr>\n",
       "      <th>0</th>\n",
       "      <td>Januari</td>\n",
       "      <td>63880000</td>\n",
       "      <td>1</td>\n",
       "      <td>63880000</td>\n",
       "    </tr>\n",
       "    <tr>\n",
       "      <th>1</th>\n",
       "      <td>Febuari</td>\n",
       "      <td>71920000</td>\n",
       "      <td>2</td>\n",
       "      <td>71920000</td>\n",
       "    </tr>\n",
       "    <tr>\n",
       "      <th>2</th>\n",
       "      <td>Maret</td>\n",
       "      <td>57040000</td>\n",
       "      <td>3</td>\n",
       "      <td>57040000</td>\n",
       "    </tr>\n",
       "    <tr>\n",
       "      <th>3</th>\n",
       "      <td>April</td>\n",
       "      <td>67000000</td>\n",
       "      <td>4</td>\n",
       "      <td>67000000</td>\n",
       "    </tr>\n",
       "    <tr>\n",
       "      <th>4</th>\n",
       "      <td>Mei</td>\n",
       "      <td>57720000</td>\n",
       "      <td>5</td>\n",
       "      <td>57720000</td>\n",
       "    </tr>\n",
       "    <tr>\n",
       "      <th>5</th>\n",
       "      <td>Juni</td>\n",
       "      <td>65960000</td>\n",
       "      <td>6</td>\n",
       "      <td>65960000</td>\n",
       "    </tr>\n",
       "    <tr>\n",
       "      <th>6</th>\n",
       "      <td>Juli</td>\n",
       "      <td>55400000</td>\n",
       "      <td>7</td>\n",
       "      <td>55400000</td>\n",
       "    </tr>\n",
       "    <tr>\n",
       "      <th>7</th>\n",
       "      <td>Agustus</td>\n",
       "      <td>58920000</td>\n",
       "      <td>8</td>\n",
       "      <td>58920000</td>\n",
       "    </tr>\n",
       "    <tr>\n",
       "      <th>8</th>\n",
       "      <td>September</td>\n",
       "      <td>61360000</td>\n",
       "      <td>9</td>\n",
       "      <td>61360000</td>\n",
       "    </tr>\n",
       "    <tr>\n",
       "      <th>9</th>\n",
       "      <td>Oktober</td>\n",
       "      <td>63960000</td>\n",
       "      <td>10</td>\n",
       "      <td>63960000</td>\n",
       "    </tr>\n",
       "    <tr>\n",
       "      <th>10</th>\n",
       "      <td>November</td>\n",
       "      <td>69320000</td>\n",
       "      <td>11</td>\n",
       "      <td>69320000</td>\n",
       "    </tr>\n",
       "    <tr>\n",
       "      <th>11</th>\n",
       "      <td>Desember</td>\n",
       "      <td>70720000</td>\n",
       "      <td>12</td>\n",
       "      <td>70720000</td>\n",
       "    </tr>\n",
       "  </tbody>\n",
       "</table>\n",
       "</div>"
      ],
      "text/plain": [
       "        Bulan  Pendapatan   x         y\n",
       "0     Januari    63880000   1  63880000\n",
       "1     Febuari    71920000   2  71920000\n",
       "2       Maret    57040000   3  57040000\n",
       "3       April    67000000   4  67000000\n",
       "4         Mei    57720000   5  57720000\n",
       "5        Juni    65960000   6  65960000\n",
       "6       Juli     55400000   7  55400000\n",
       "7     Agustus    58920000   8  58920000\n",
       "8   September    61360000   9  61360000\n",
       "9     Oktober    63960000  10  63960000\n",
       "10   November    69320000  11  69320000\n",
       "11   Desember    70720000  12  70720000"
      ]
     },
     "execution_count": 10,
     "metadata": {},
     "output_type": "execute_result"
    }
   ],
   "source": [
    "Data_pendapatan=pd.read_csv('Regresi Pendapatan.csv')\n",
    "print(\"baris\",len(Data_pendapatan),\"kolom\",len(Data_pendapatan.columns))\n",
    "Data_pendapatan"
   ]
  },
  {
   "cell_type": "code",
   "execution_count": 11,
   "metadata": {},
   "outputs": [
    {
     "name": "stdout",
     "output_type": "stream",
     "text": [
      "     x         y\n",
      "0    1  63880000\n",
      "1    2  71920000\n",
      "2    3  57040000\n",
      "3    4  67000000\n",
      "4    5  57720000\n",
      "5    6  65960000\n",
      "6    7  55400000\n",
      "7    8  58920000\n",
      "8    9  61360000\n",
      "9   10  63960000\n",
      "10  11  69320000\n",
      "11  12  70720000\n"
     ]
    }
   ],
   "source": [
    "Pendapatan_bulanan = Data_pendapatan[['x','y']]\n",
    "print(Pendapatan_bulanan)"
   ]
  },
  {
   "cell_type": "code",
   "execution_count": 12,
   "metadata": {},
   "outputs": [
    {
     "name": "stdout",
     "output_type": "stream",
     "text": [
      "Data Set = [[1, 63880000], [2, 71920000], [3, 57040000], [4, 67000000], [5, 57720000], [6, 65960000], [7, 55400000], [8, 58920000], [9, 61360000], [10, 63960000], [11, 69320000], [12, 70720000]]\n",
      "Train Data Set = [[1, 63880000], [2, 71920000], [3, 57040000], [4, 67000000], [5, 57720000], [6, 65960000], [7, 55400000], [8, 58920000], [9, 61360000]]\n",
      "Test Data Set = [[10, 63960000], [11, 69320000], [12, 70720000]]\n"
     ]
    }
   ],
   "source": [
    "# Define a size for your train set \n",
    "train_size = int(0.8 * len(Pendapatan_bulanan))\n",
    "\n",
    "# Split your dataset \n",
    "Pendapatan_bulanan.to_numpy().tolist()\n",
    "Pendapatan_dataset= Pendapatan_bulanan.to_numpy().tolist()\n",
    "print(\"Data Set =\",Pendapatan_dataset)\n",
    "train_set = Pendapatan_dataset[:train_size]\n",
    "test_set = Pendapatan_dataset[train_size:]\n",
    "\n",
    "print(\"Train Data Set =\",train_set)\n",
    "print(\"Test Data Set =\",test_set)"
   ]
  },
  {
   "cell_type": "code",
   "execution_count": 13,
   "metadata": {},
   "outputs": [],
   "source": [
    "# Menghitung rataan\n",
    "# catatan: values dalam list\n",
    "def mean(values):\n",
    "    return float(sum(values)/len(values))"
   ]
  },
  {
   "cell_type": "code",
   "execution_count": 14,
   "metadata": {},
   "outputs": [],
   "source": [
    "# menghitung variance\n",
    "# catatan: values dalam bentuk list\n",
    "def variance(values, mu):\n",
    "    return sum([(x-mu)**2 for x in values])"
   ]
  },
  {
   "cell_type": "code",
   "execution_count": 15,
   "metadata": {},
   "outputs": [],
   "source": [
    "def covariance(x, y, mean_x, mean_y):\n",
    "    out = 0.0\n",
    "    for i in range(len(x)):\n",
    "        out += (x[i] - mean_x) * (y[i] - mean_y)\n",
    "    return out"
   ]
  },
  {
   "cell_type": "code",
   "execution_count": 16,
   "metadata": {},
   "outputs": [],
   "source": [
    "def coefficients(Pendapatan_dataset):\n",
    "    # mencari koefisien b0 dan b1\n",
    "    # catatan: dataset berbentuk pair x dan y dalam list\n",
    "    # output : list[b0,b1]\n",
    "    \n",
    "    x = [pasangan[0] for pasangan in Pendapatan_dataset]\n",
    "    y = [pasangan[1] for pasangan in Pendapatan_dataset]\n",
    "    mean_x = mean(x)\n",
    "    mean_y = mean(y)\n",
    "    b1 = covariance(x, y, mean_x, mean_y)/variance(x,mean_x)\n",
    "    b0 = mean_y - b1*mean_x\n",
    "    return [b0, b1]"
   ]
  },
  {
   "cell_type": "code",
   "execution_count": 17,
   "metadata": {},
   "outputs": [],
   "source": [
    "def linear_regression(train, test):\n",
    "    # test : list\n",
    "    # train : list\n",
    "    \n",
    "    prediction = list()\n",
    "    b0, b1 = coefficients(train)\n",
    "    print(f'b0 = {b0}')\n",
    "    print(f'b1 = {b1}')\n",
    "    for nilai in test:\n",
    "        y_hat = b0 + b1*nilai[0]\n",
    "        prediction.append(y_hat)\n",
    "        \n",
    "    return prediction"
   ]
  },
  {
   "cell_type": "code",
   "execution_count": 18,
   "metadata": {},
   "outputs": [],
   "source": [
    "test = [[2,None],[9,None]]"
   ]
  },
  {
   "cell_type": "code",
   "execution_count": 20,
   "metadata": {},
   "outputs": [
    {
     "name": "stdout",
     "output_type": "stream",
     "text": [
      "b0 = 62120000.0\n",
      "b1 = 227692.3076923077\n"
     ]
    },
    {
     "data": {
      "text/plain": [
       "[62575384.615384616, 64169230.76923077]"
      ]
     },
     "execution_count": 20,
     "metadata": {},
     "output_type": "execute_result"
    }
   ],
   "source": [
    "linear_regression(Pendapatan_dataset, test)"
   ]
  },
  {
   "cell_type": "code",
   "execution_count": 21,
   "metadata": {},
   "outputs": [],
   "source": [
    "# loss function : mean squared error\n",
    "def mse(actual, predicted):\n",
    "    # actual : list\n",
    "    # predicted : list\n",
    "    # out: mean squared error : float \n",
    "    \n",
    "    sum_error = 0\n",
    "    for i in range(len(actual)):\n",
    "        error = (predicted[i] - actual[i])**2\n",
    "        sum_error += error\n",
    "    mean_se = float(sum_error/len(actual))\n",
    "    return mean_se    "
   ]
  },
  {
   "cell_type": "code",
   "execution_count": 22,
   "metadata": {},
   "outputs": [],
   "source": [
    "# menghitung error (evaluation)\n",
    "def evaluate_model(Pendapatan_dataset,model):\n",
    "    test_set = Pendapatan_dataset \n",
    "    y_hat = model(Pendapatan_dataset, test_set)\n",
    "    y = [angka[1] for angka in Pendapatan_dataset]\n",
    "    return mse(y, y_hat), y_hat"
   ]
  },
  {
   "cell_type": "code",
   "execution_count": 23,
   "metadata": {},
   "outputs": [
    {
     "name": "stdout",
     "output_type": "stream",
     "text": [
      "b0 = 62120000.0\n",
      "b1 = 227692.3076923077\n",
      "mse = 27860594871794.863\n",
      "y_hat = [62347692.307692304, 62575384.615384616, 62803076.92307692, 63030769.23076923, 63258461.538461536, 63486153.84615385, 63713846.15384615, 63941538.461538464, 64169230.76923077, 64396923.07692308, 64624615.384615384, 64852307.692307696]\n"
     ]
    }
   ],
   "source": [
    "e, y_hat = evaluate_model(Pendapatan_dataset, linear_regression)\n",
    "print(f'mse = {e}')\n",
    "print(f'y_hat = {y_hat}')"
   ]
  },
  {
   "cell_type": "code",
   "execution_count": 24,
   "metadata": {
    "scrolled": true
   },
   "outputs": [
    {
     "data": {
      "text/plain": [
       "[<matplotlib.lines.Line2D at 0x1a8e80df7f0>]"
      ]
     },
     "execution_count": 24,
     "metadata": {},
     "output_type": "execute_result"
    },
    {
     "data": {
      "image/png": "[encoded data removed]",
      "text/plain": [
       "<Figure size 432x288 with 1 Axes>"
      ]
     },
     "metadata": {
      "needs_background": "light"
     },
     "output_type": "display_data"
    }
   ],
   "source": [
    "x = [angka[0] for angka in Pendapatan_dataset]\n",
    "y = [angka[1] for angka in Pendapatan_dataset]\n",
    "\n",
    "plt.plot(x,y,'b*')\n",
    "plt.plot(x,y_hat,'r-')"
   ]
  },
  {
   "cell_type": "markdown",
   "metadata": {},
   "source": [
    "# Data Produksi"
   ]
  },
  {
   "cell_type": "code",
   "execution_count": 25,
   "metadata": {},
   "outputs": [
    {
     "name": "stdout",
     "output_type": "stream",
     "text": [
      "baris 12 kolom 4\n"
     ]
    },
    {
     "data": {
      "text/html": [
       "<div>\n",
       "<style scoped>\n",
       "    .dataframe tbody tr th:only-of-type {\n",
       "        vertical-align: middle;\n",
       "    }\n",
       "\n",
       "    .dataframe tbody tr th {\n",
       "        vertical-align: top;\n",
       "    }\n",
       "\n",
       "    .dataframe thead th {\n",
       "        text-align: right;\n",
       "    }\n",
       "</style>\n",
       "<table border=\"1\" class=\"dataframe\">\n",
       "  <thead>\n",
       "    <tr style=\"text-align: right;\">\n",
       "      <th></th>\n",
       "      <th>Bulan</th>\n",
       "      <th>Biaya Produks</th>\n",
       "      <th>x</th>\n",
       "      <th>y</th>\n",
       "    </tr>\n",
       "  </thead>\n",
       "  <tbody>\n",
       "    <tr>\n",
       "      <th>0</th>\n",
       "      <td>Januari</td>\n",
       "      <td>31940000</td>\n",
       "      <td>1</td>\n",
       "      <td>31940000</td>\n",
       "    </tr>\n",
       "    <tr>\n",
       "      <th>1</th>\n",
       "      <td>Febuari</td>\n",
       "      <td>35960000</td>\n",
       "      <td>2</td>\n",
       "      <td>35960000</td>\n",
       "    </tr>\n",
       "    <tr>\n",
       "      <th>2</th>\n",
       "      <td>Maret</td>\n",
       "      <td>28520000</td>\n",
       "      <td>3</td>\n",
       "      <td>28520000</td>\n",
       "    </tr>\n",
       "    <tr>\n",
       "      <th>3</th>\n",
       "      <td>April</td>\n",
       "      <td>33500000</td>\n",
       "      <td>4</td>\n",
       "      <td>33500000</td>\n",
       "    </tr>\n",
       "    <tr>\n",
       "      <th>4</th>\n",
       "      <td>Mei</td>\n",
       "      <td>28860000</td>\n",
       "      <td>5</td>\n",
       "      <td>28860000</td>\n",
       "    </tr>\n",
       "    <tr>\n",
       "      <th>5</th>\n",
       "      <td>Juni</td>\n",
       "      <td>32980000</td>\n",
       "      <td>6</td>\n",
       "      <td>32980000</td>\n",
       "    </tr>\n",
       "    <tr>\n",
       "      <th>6</th>\n",
       "      <td>Juli</td>\n",
       "      <td>27700000</td>\n",
       "      <td>7</td>\n",
       "      <td>27700000</td>\n",
       "    </tr>\n",
       "    <tr>\n",
       "      <th>7</th>\n",
       "      <td>Agustus</td>\n",
       "      <td>29460000</td>\n",
       "      <td>8</td>\n",
       "      <td>29460000</td>\n",
       "    </tr>\n",
       "    <tr>\n",
       "      <th>8</th>\n",
       "      <td>September</td>\n",
       "      <td>30680000</td>\n",
       "      <td>9</td>\n",
       "      <td>30680000</td>\n",
       "    </tr>\n",
       "    <tr>\n",
       "      <th>9</th>\n",
       "      <td>Oktober</td>\n",
       "      <td>31980000</td>\n",
       "      <td>10</td>\n",
       "      <td>31980000</td>\n",
       "    </tr>\n",
       "    <tr>\n",
       "      <th>10</th>\n",
       "      <td>November</td>\n",
       "      <td>34660000</td>\n",
       "      <td>11</td>\n",
       "      <td>34660000</td>\n",
       "    </tr>\n",
       "    <tr>\n",
       "      <th>11</th>\n",
       "      <td>Desember</td>\n",
       "      <td>35360000</td>\n",
       "      <td>12</td>\n",
       "      <td>35360000</td>\n",
       "    </tr>\n",
       "  </tbody>\n",
       "</table>\n",
       "</div>"
      ],
      "text/plain": [
       "        Bulan  Biaya Produks    x         y\n",
       "0     Januari        31940000   1  31940000\n",
       "1     Febuari        35960000   2  35960000\n",
       "2       Maret        28520000   3  28520000\n",
       "3       April        33500000   4  33500000\n",
       "4         Mei        28860000   5  28860000\n",
       "5        Juni        32980000   6  32980000\n",
       "6       Juli         27700000   7  27700000\n",
       "7     Agustus        29460000   8  29460000\n",
       "8   September        30680000   9  30680000\n",
       "9     Oktober        31980000  10  31980000\n",
       "10   November        34660000  11  34660000\n",
       "11   Desember        35360000  12  35360000"
      ]
     },
     "execution_count": 25,
     "metadata": {},
     "output_type": "execute_result"
    }
   ],
   "source": [
    "Data_produksi=pd.read_csv('Regresi Biaya Produksi.csv')\n",
    "print(\"baris\",len(Data_produksi),\"kolom\",len(Data_produksi.columns))\n",
    "Data_produksi"
   ]
  },
  {
   "cell_type": "code",
   "execution_count": 26,
   "metadata": {},
   "outputs": [
    {
     "name": "stdout",
     "output_type": "stream",
     "text": [
      "     x         y\n",
      "0    1  31940000\n",
      "1    2  35960000\n",
      "2    3  28520000\n",
      "3    4  33500000\n",
      "4    5  28860000\n",
      "5    6  32980000\n",
      "6    7  27700000\n",
      "7    8  29460000\n",
      "8    9  30680000\n",
      "9   10  31980000\n",
      "10  11  34660000\n",
      "11  12  35360000\n"
     ]
    }
   ],
   "source": [
    "produksi_bulanan = Data_produksi[['x','y']]\n",
    "print(produksi_bulanan)"
   ]
  },
  {
   "cell_type": "code",
   "execution_count": 27,
   "metadata": {},
   "outputs": [
    {
     "name": "stdout",
     "output_type": "stream",
     "text": [
      "Data Set = [[1, 31940000], [2, 35960000], [3, 28520000], [4, 33500000], [5, 28860000], [6, 32980000], [7, 27700000], [8, 29460000], [9, 30680000], [10, 31980000], [11, 34660000], [12, 35360000]]\n",
      "Train Data Set = [[1, 31940000], [2, 35960000], [3, 28520000], [4, 33500000], [5, 28860000], [6, 32980000], [7, 27700000], [8, 29460000], [9, 30680000]]\n",
      "Test Data Set = [[10, 31980000], [11, 34660000], [12, 35360000]]\n"
     ]
    }
   ],
   "source": [
    "# Define a size for your train set \n",
    "train_size = int(0.8 * len(produksi_bulanan))\n",
    "\n",
    "# Split your dataset \n",
    "produksi_bulanan.to_numpy().tolist()\n",
    "produksi_dataset= produksi_bulanan.to_numpy().tolist()\n",
    "print(\"Data Set =\",produksi_dataset)\n",
    "train_set = produksi_dataset[:train_size]\n",
    "test_set = produksi_dataset[train_size:]\n",
    "\n",
    "print(\"Train Data Set =\",train_set)\n",
    "print(\"Test Data Set =\",test_set)"
   ]
  },
  {
   "cell_type": "code",
   "execution_count": 28,
   "metadata": {},
   "outputs": [],
   "source": [
    "def coefficients(produksi_dataset):\n",
    "    # mencari koefisien b0 dan b1\n",
    "    # catatan: dataset berbentuk pair x dan y dalam list\n",
    "    # output : list[b0,b1]\n",
    "    \n",
    "    x = [pasangan[0] for pasangan in produksi_dataset]\n",
    "    y = [pasangan[1] for pasangan in produksi_dataset]\n",
    "    mean_x = mean(x)\n",
    "    mean_y = mean(y)\n",
    "    b1 = covariance(x, y, mean_x, mean_y)/variance(x,mean_x)\n",
    "    b0 = mean_y - b1*mean_x\n",
    "    return [b0, b1]"
   ]
  },
  {
   "cell_type": "code",
   "execution_count": 29,
   "metadata": {},
   "outputs": [],
   "source": [
    "test = [[2,None],[9,None]]"
   ]
  },
  {
   "cell_type": "code",
   "execution_count": 30,
   "metadata": {},
   "outputs": [
    {
     "name": "stdout",
     "output_type": "stream",
     "text": [
      "b0 = 31060000.0\n",
      "b1 = 113846.15384615384\n"
     ]
    },
    {
     "data": {
      "text/plain": [
       "[31287692.307692308, 32084615.384615384]"
      ]
     },
     "execution_count": 30,
     "metadata": {},
     "output_type": "execute_result"
    }
   ],
   "source": [
    "linear_regression(produksi_dataset, test)"
   ]
  },
  {
   "cell_type": "code",
   "execution_count": 31,
   "metadata": {},
   "outputs": [],
   "source": [
    "# menghitung error (evaluation)\n",
    "def evaluate_model(produksi_dataset,model):\n",
    "    test_set = produksi_dataset \n",
    "    y_hat = model(produksi_dataset, test_set)\n",
    "    y = [angka[1] for angka in produksi_dataset]\n",
    "    return mse(y, y_hat), y_hat"
   ]
  },
  {
   "cell_type": "code",
   "execution_count": 32,
   "metadata": {},
   "outputs": [
    {
     "name": "stdout",
     "output_type": "stream",
     "text": [
      "b0 = 31060000.0\n",
      "b1 = 113846.15384615384\n",
      "mse = 6965148717948.716\n",
      "y_hat = [31173846.153846152, 31287692.307692308, 31401538.46153846, 31515384.615384616, 31629230.769230768, 31743076.923076924, 31856923.076923076, 31970769.230769232, 32084615.384615384, 32198461.53846154, 32312307.692307692, 32426153.846153848]\n"
     ]
    }
   ],
   "source": [
    "e, y_hat = evaluate_model(produksi_dataset, linear_regression)\n",
    "print(f'mse = {e}')\n",
    "print(f'y_hat = {y_hat}')"
   ]
  },
  {
   "cell_type": "code",
   "execution_count": 33,
   "metadata": {},
   "outputs": [
    {
     "data": {
      "text/plain": [
       "[<matplotlib.lines.Line2D at 0x1a8e84273d0>]"
      ]
     },
     "execution_count": 33,
     "metadata": {},
     "output_type": "execute_result"
    },
    {
     "data": {
      "image/png": "[encoded data removed]",
      "text/plain": [
       "<Figure size 432x288 with 1 Axes>"
      ]
     },
     "metadata": {
      "needs_background": "light"
     },
     "output_type": "display_data"
    }
   ],
   "source": [
    "x = [angka[0] for angka in produksi_dataset]\n",
    "y = [angka[1] for angka in produksi_dataset]\n",
    "\n",
    "plt.plot(x,y,'b*')\n",
    "plt.plot(x,y_hat,'r-')"
   ]
  },
  {
   "cell_type": "markdown",
   "metadata": {},
   "source": [
    "# Data Penjualan Minuman"
   ]
  },
  {
   "cell_type": "code",
   "execution_count": 34,
   "metadata": {},
   "outputs": [
    {
     "name": "stdout",
     "output_type": "stream",
     "text": [
      "baris 12 kolom 4\n"
     ]
    },
    {
     "data": {
      "text/html": [
       "<div>\n",
       "<style scoped>\n",
       "    .dataframe tbody tr th:only-of-type {\n",
       "        vertical-align: middle;\n",
       "    }\n",
       "\n",
       "    .dataframe tbody tr th {\n",
       "        vertical-align: top;\n",
       "    }\n",
       "\n",
       "    .dataframe thead th {\n",
       "        text-align: right;\n",
       "    }\n",
       "</style>\n",
       "<table border=\"1\" class=\"dataframe\">\n",
       "  <thead>\n",
       "    <tr style=\"text-align: right;\">\n",
       "      <th></th>\n",
       "      <th>Bulan</th>\n",
       "      <th>Minuman</th>\n",
       "      <th>x</th>\n",
       "      <th>y</th>\n",
       "    </tr>\n",
       "  </thead>\n",
       "  <tbody>\n",
       "    <tr>\n",
       "      <th>0</th>\n",
       "      <td>Januari</td>\n",
       "      <td>687</td>\n",
       "      <td>1</td>\n",
       "      <td>687</td>\n",
       "    </tr>\n",
       "    <tr>\n",
       "      <th>1</th>\n",
       "      <td>Febuari</td>\n",
       "      <td>863</td>\n",
       "      <td>2</td>\n",
       "      <td>863</td>\n",
       "    </tr>\n",
       "    <tr>\n",
       "      <th>2</th>\n",
       "      <td>Maret</td>\n",
       "      <td>699</td>\n",
       "      <td>3</td>\n",
       "      <td>699</td>\n",
       "    </tr>\n",
       "    <tr>\n",
       "      <th>3</th>\n",
       "      <td>April</td>\n",
       "      <td>804</td>\n",
       "      <td>4</td>\n",
       "      <td>804</td>\n",
       "    </tr>\n",
       "    <tr>\n",
       "      <th>4</th>\n",
       "      <td>Mei</td>\n",
       "      <td>707</td>\n",
       "      <td>5</td>\n",
       "      <td>707</td>\n",
       "    </tr>\n",
       "    <tr>\n",
       "      <th>5</th>\n",
       "      <td>Juni</td>\n",
       "      <td>792</td>\n",
       "      <td>6</td>\n",
       "      <td>792</td>\n",
       "    </tr>\n",
       "    <tr>\n",
       "      <th>6</th>\n",
       "      <td>Juli</td>\n",
       "      <td>624</td>\n",
       "      <td>7</td>\n",
       "      <td>624</td>\n",
       "    </tr>\n",
       "    <tr>\n",
       "      <th>7</th>\n",
       "      <td>Agustus</td>\n",
       "      <td>707</td>\n",
       "      <td>8</td>\n",
       "      <td>707</td>\n",
       "    </tr>\n",
       "    <tr>\n",
       "      <th>8</th>\n",
       "      <td>September</td>\n",
       "      <td>752</td>\n",
       "      <td>9</td>\n",
       "      <td>752</td>\n",
       "    </tr>\n",
       "    <tr>\n",
       "      <th>9</th>\n",
       "      <td>Oktober</td>\n",
       "      <td>784</td>\n",
       "      <td>10</td>\n",
       "      <td>784</td>\n",
       "    </tr>\n",
       "    <tr>\n",
       "      <th>10</th>\n",
       "      <td>November</td>\n",
       "      <td>850</td>\n",
       "      <td>11</td>\n",
       "      <td>850</td>\n",
       "    </tr>\n",
       "    <tr>\n",
       "      <th>11</th>\n",
       "      <td>Desember</td>\n",
       "      <td>796</td>\n",
       "      <td>12</td>\n",
       "      <td>796</td>\n",
       "    </tr>\n",
       "  </tbody>\n",
       "</table>\n",
       "</div>"
      ],
      "text/plain": [
       "        Bulan  Minuman   x    y\n",
       "0     Januari      687   1  687\n",
       "1     Febuari      863   2  863\n",
       "2       Maret      699   3  699\n",
       "3       April      804   4  804\n",
       "4         Mei      707   5  707\n",
       "5        Juni      792   6  792\n",
       "6       Juli       624   7  624\n",
       "7     Agustus      707   8  707\n",
       "8   September      752   9  752\n",
       "9     Oktober      784  10  784\n",
       "10   November      850  11  850\n",
       "11   Desember      796  12  796"
      ]
     },
     "execution_count": 34,
     "metadata": {},
     "output_type": "execute_result"
    }
   ],
   "source": [
    "Data_Minuman=pd.read_csv('Regresis Penjualan Minuman.csv')\n",
    "print(\"baris\",len(Data_Minuman),\"kolom\",len(Data_Minuman.columns))\n",
    "Data_Minuman"
   ]
  },
  {
   "cell_type": "code",
   "execution_count": 35,
   "metadata": {},
   "outputs": [
    {
     "name": "stdout",
     "output_type": "stream",
     "text": [
      "     x    y\n",
      "0    1  687\n",
      "1    2  863\n",
      "2    3  699\n",
      "3    4  804\n",
      "4    5  707\n",
      "5    6  792\n",
      "6    7  624\n",
      "7    8  707\n",
      "8    9  752\n",
      "9   10  784\n",
      "10  11  850\n",
      "11  12  796\n"
     ]
    }
   ],
   "source": [
    "penjulan_minuman_bulanan = Data_Minuman[['x','y']]\n",
    "print(penjulan_minuman_bulanan)"
   ]
  },
  {
   "cell_type": "code",
   "execution_count": 36,
   "metadata": {},
   "outputs": [
    {
     "name": "stdout",
     "output_type": "stream",
     "text": [
      "Data Set = [[1, 687], [2, 863], [3, 699], [4, 804], [5, 707], [6, 792], [7, 624], [8, 707], [9, 752], [10, 784], [11, 850], [12, 796]]\n",
      "Train Data Set = [[1, 687], [2, 863], [3, 699], [4, 804], [5, 707], [6, 792], [7, 624], [8, 707], [9, 752]]\n",
      "Test Data Set = [[10, 784], [11, 850], [12, 796]]\n"
     ]
    }
   ],
   "source": [
    "# Define a size for your train set \n",
    "train_size = int(0.8 * len(penjulan_minuman_bulanan))\n",
    "\n",
    "# Split your dataset \n",
    "penjulan_minuman_bulanan.to_numpy().tolist()\n",
    "minuman_dataset= penjulan_minuman_bulanan.to_numpy().tolist()\n",
    "print(\"Data Set =\",minuman_dataset)\n",
    "train_set = minuman_dataset[:train_size]\n",
    "test_set = minuman_dataset[train_size:]\n",
    "\n",
    "print(\"Train Data Set =\",train_set)\n",
    "print(\"Test Data Set =\",test_set)"
   ]
  },
  {
   "cell_type": "code",
   "execution_count": 37,
   "metadata": {},
   "outputs": [],
   "source": [
    "def coefficients(minuman_dataset):\n",
    "    # mencari koefisien b0 dan b1\n",
    "    # catatan: dataset berbentuk pair x dan y dalam list\n",
    "    # output : list[b0,b1]\n",
    "    \n",
    "    x = [pasangan[0] for pasangan in minuman_dataset]\n",
    "    y = [pasangan[1] for pasangan in minuman_dataset]\n",
    "    mean_x = mean(x)\n",
    "    mean_y = mean(y)\n",
    "    b1 = covariance(x, y, mean_x, mean_y)/variance(x,mean_x)\n",
    "    b0 = mean_y - b1*mean_x\n",
    "    return [b0, b1]"
   ]
  },
  {
   "cell_type": "code",
   "execution_count": 38,
   "metadata": {},
   "outputs": [],
   "source": [
    "test = [[2,None],[9,None]]"
   ]
  },
  {
   "cell_type": "code",
   "execution_count": 39,
   "metadata": {},
   "outputs": [
    {
     "name": "stdout",
     "output_type": "stream",
     "text": [
      "b0 = 727.030303030303\n",
      "b1 = 4.3671328671328675\n"
     ]
    },
    {
     "data": {
      "text/plain": [
       "[735.7645687645687, 766.3344988344988]"
      ]
     },
     "execution_count": 39,
     "metadata": {},
     "output_type": "execute_result"
    }
   ],
   "source": [
    "linear_regression(minuman_dataset, test)"
   ]
  },
  {
   "cell_type": "code",
   "execution_count": 40,
   "metadata": {},
   "outputs": [],
   "source": [
    "# menghitung error (evaluation)\n",
    "def evaluate_model(minuman_dataset,model):\n",
    "    test_set = minuman_dataset \n",
    "    y_hat = model(minuman_dataset, test_set)\n",
    "    y = [angka[1] for angka in minuman_dataset]\n",
    "    return mse(y, y_hat), y_hat"
   ]
  },
  {
   "cell_type": "code",
   "execution_count": 41,
   "metadata": {},
   "outputs": [
    {
     "name": "stdout",
     "output_type": "stream",
     "text": [
      "b0 = 727.030303030303\n",
      "b1 = 4.3671328671328675\n",
      "mse = 4482.470182595181\n",
      "y_hat = [731.3974358974359, 735.7645687645687, 740.1317016317016, 744.4988344988345, 748.8659673659673, 753.2331002331002, 757.600233100233, 761.9673659673659, 766.3344988344988, 770.7016317016316, 775.0687645687645, 779.4358974358975]\n"
     ]
    }
   ],
   "source": [
    "e, y_hat = evaluate_model(minuman_dataset, linear_regression)\n",
    "print(f'mse = {e}')\n",
    "print(f'y_hat = {y_hat}')"
   ]
  },
  {
   "cell_type": "code",
   "execution_count": 42,
   "metadata": {},
   "outputs": [
    {
     "data": {
      "text/plain": [
       "[<matplotlib.lines.Line2D at 0x1a8e848c400>]"
      ]
     },
     "execution_count": 42,
     "metadata": {},
     "output_type": "execute_result"
    },
    {
     "data": {
      "image/png": "[encoded data removed]",
      "text/plain": [
       "<Figure size 432x288 with 1 Axes>"
      ]
     },
     "metadata": {
      "needs_background": "light"
     },
     "output_type": "display_data"
    }
   ],
   "source": [
    "x = [angka[0] for angka in minuman_dataset]\n",
    "y = [angka[1] for angka in minuman_dataset]\n",
    "\n",
    "plt.plot(x,y,'b*')\n",
    "plt.plot(x,y_hat,'r-')"
   ]
  },
  {
   "cell_type": "markdown",
   "metadata": {},
   "source": [
    "# Data Penjualan Makanan"
   ]
  },
  {
   "cell_type": "code",
   "execution_count": 44,
   "metadata": {
    "scrolled": true
   },
   "outputs": [
    {
     "name": "stdout",
     "output_type": "stream",
     "text": [
      "baris 12 kolom 4\n"
     ]
    },
    {
     "data": {
      "text/html": [
       "<div>\n",
       "<style scoped>\n",
       "    .dataframe tbody tr th:only-of-type {\n",
       "        vertical-align: middle;\n",
       "    }\n",
       "\n",
       "    .dataframe tbody tr th {\n",
       "        vertical-align: top;\n",
       "    }\n",
       "\n",
       "    .dataframe thead th {\n",
       "        text-align: right;\n",
       "    }\n",
       "</style>\n",
       "<table border=\"1\" class=\"dataframe\">\n",
       "  <thead>\n",
       "    <tr style=\"text-align: right;\">\n",
       "      <th></th>\n",
       "      <th>Bulan</th>\n",
       "      <th>Makanan</th>\n",
       "      <th>x</th>\n",
       "      <th>y</th>\n",
       "    </tr>\n",
       "  </thead>\n",
       "  <tbody>\n",
       "    <tr>\n",
       "      <th>0</th>\n",
       "      <td>Januari</td>\n",
       "      <td>910</td>\n",
       "      <td>1</td>\n",
       "      <td>910</td>\n",
       "    </tr>\n",
       "    <tr>\n",
       "      <th>1</th>\n",
       "      <td>Febuari</td>\n",
       "      <td>935</td>\n",
       "      <td>2</td>\n",
       "      <td>935</td>\n",
       "    </tr>\n",
       "    <tr>\n",
       "      <th>2</th>\n",
       "      <td>Maret</td>\n",
       "      <td>727</td>\n",
       "      <td>3</td>\n",
       "      <td>727</td>\n",
       "    </tr>\n",
       "    <tr>\n",
       "      <th>3</th>\n",
       "      <td>April</td>\n",
       "      <td>871</td>\n",
       "      <td>4</td>\n",
       "      <td>871</td>\n",
       "    </tr>\n",
       "    <tr>\n",
       "      <th>4</th>\n",
       "      <td>Mei</td>\n",
       "      <td>736</td>\n",
       "      <td>5</td>\n",
       "      <td>736</td>\n",
       "    </tr>\n",
       "    <tr>\n",
       "      <th>5</th>\n",
       "      <td>Juni</td>\n",
       "      <td>857</td>\n",
       "      <td>6</td>\n",
       "      <td>857</td>\n",
       "    </tr>\n",
       "    <tr>\n",
       "      <th>6</th>\n",
       "      <td>Juli</td>\n",
       "      <td>761</td>\n",
       "      <td>7</td>\n",
       "      <td>761</td>\n",
       "    </tr>\n",
       "    <tr>\n",
       "      <th>7</th>\n",
       "      <td>Agustus</td>\n",
       "      <td>766</td>\n",
       "      <td>8</td>\n",
       "      <td>766</td>\n",
       "    </tr>\n",
       "    <tr>\n",
       "      <th>8</th>\n",
       "      <td>September</td>\n",
       "      <td>782</td>\n",
       "      <td>9</td>\n",
       "      <td>782</td>\n",
       "    </tr>\n",
       "    <tr>\n",
       "      <th>9</th>\n",
       "      <td>Oktober</td>\n",
       "      <td>815</td>\n",
       "      <td>10</td>\n",
       "      <td>815</td>\n",
       "    </tr>\n",
       "    <tr>\n",
       "      <th>10</th>\n",
       "      <td>November</td>\n",
       "      <td>883</td>\n",
       "      <td>11</td>\n",
       "      <td>883</td>\n",
       "    </tr>\n",
       "    <tr>\n",
       "      <th>11</th>\n",
       "      <td>Desember</td>\n",
       "      <td>972</td>\n",
       "      <td>12</td>\n",
       "      <td>972</td>\n",
       "    </tr>\n",
       "  </tbody>\n",
       "</table>\n",
       "</div>"
      ],
      "text/plain": [
       "        Bulan  Makanan   x    y\n",
       "0     Januari      910   1  910\n",
       "1     Febuari      935   2  935\n",
       "2       Maret      727   3  727\n",
       "3       April      871   4  871\n",
       "4         Mei      736   5  736\n",
       "5        Juni      857   6  857\n",
       "6       Juli       761   7  761\n",
       "7     Agustus      766   8  766\n",
       "8   September      782   9  782\n",
       "9     Oktober      815  10  815\n",
       "10   November      883  11  883\n",
       "11   Desember      972  12  972"
      ]
     },
     "execution_count": 44,
     "metadata": {},
     "output_type": "execute_result"
    }
   ],
   "source": [
    "Data_Makanan=pd.read_csv('Regresis Penjualan Makanan.csv')\n",
    "print(\"baris\",len(Data_Makanan),\"kolom\",len(Data_Makanan.columns))\n",
    "Data_Makanan"
   ]
  },
  {
   "cell_type": "code",
   "execution_count": 45,
   "metadata": {},
   "outputs": [
    {
     "name": "stdout",
     "output_type": "stream",
     "text": [
      "     x    y\n",
      "0    1  910\n",
      "1    2  935\n",
      "2    3  727\n",
      "3    4  871\n",
      "4    5  736\n",
      "5    6  857\n",
      "6    7  761\n",
      "7    8  766\n",
      "8    9  782\n",
      "9   10  815\n",
      "10  11  883\n",
      "11  12  972\n"
     ]
    }
   ],
   "source": [
    "penjulan_makanan_bulanan = Data_Makanan[['x','y']]\n",
    "print(penjulan_makanan_bulanan )"
   ]
  },
  {
   "cell_type": "code",
   "execution_count": 46,
   "metadata": {},
   "outputs": [
    {
     "name": "stdout",
     "output_type": "stream",
     "text": [
      "Data Set = [[1, 910], [2, 935], [3, 727], [4, 871], [5, 736], [6, 857], [7, 761], [8, 766], [9, 782], [10, 815], [11, 883], [12, 972]]\n",
      "Train Data Set = [[1, 910], [2, 935], [3, 727], [4, 871], [5, 736], [6, 857], [7, 761], [8, 766], [9, 782]]\n",
      "Test Data Set = [[10, 815], [11, 883], [12, 972]]\n"
     ]
    }
   ],
   "source": [
    "# Define a size for your train set \n",
    "train_size = int(0.8 * len(penjulan_makanan_bulanan))\n",
    "\n",
    "# Split your dataset \n",
    "penjulan_makanan_bulanan.to_numpy().tolist()\n",
    "makanan_dataset= penjulan_makanan_bulanan.to_numpy().tolist()\n",
    "print(\"Data Set =\",makanan_dataset)\n",
    "train_set = makanan_dataset[:train_size]\n",
    "test_set = makanan_dataset[train_size:]\n",
    "\n",
    "print(\"Train Data Set =\",train_set)\n",
    "print(\"Test Data Set =\",test_set)"
   ]
  },
  {
   "cell_type": "code",
   "execution_count": 47,
   "metadata": {},
   "outputs": [],
   "source": [
    "def coefficients(makanan_dataset):\n",
    "    # mencari koefisien b0 dan b1\n",
    "    # catatan: dataset berbentuk pair x dan y dalam list\n",
    "    # output : list[b0,b1]\n",
    "    \n",
    "    x = [pasangan[0] for pasangan in makanan_dataset]\n",
    "    y = [pasangan[1] for pasangan in makanan_dataset]\n",
    "    mean_x = mean(x)\n",
    "    mean_y = mean(y)\n",
    "    b1 = covariance(x, y, mean_x, mean_y)/variance(x,mean_x)\n",
    "    b0 = mean_y - b1*mean_x\n",
    "    return [b0, b1]"
   ]
  },
  {
   "cell_type": "code",
   "execution_count": 48,
   "metadata": {},
   "outputs": [],
   "source": [
    "test = [[2,None],[9,None]]"
   ]
  },
  {
   "cell_type": "code",
   "execution_count": 49,
   "metadata": {},
   "outputs": [
    {
     "name": "stdout",
     "output_type": "stream",
     "text": [
      "b0 = 825.969696969697\n",
      "b1 = 1.3251748251748252\n"
     ]
    },
    {
     "data": {
      "text/plain": [
       "[828.6200466200467, 837.8962703962704]"
      ]
     },
     "execution_count": 49,
     "metadata": {},
     "output_type": "execute_result"
    }
   ],
   "source": [
    "linear_regression(makanan_dataset, test)"
   ]
  },
  {
   "cell_type": "code",
   "execution_count": 50,
   "metadata": {},
   "outputs": [],
   "source": [
    "# menghitung error (evaluation)\n",
    "def evaluate_model(makanan_dataset,model):\n",
    "    test_set = makanan_dataset \n",
    "    y_hat = model(makanan_dataset, test_set)\n",
    "    y = [angka[1] for angka in makanan_dataset]\n",
    "    return mse(y, y_hat), y_hat"
   ]
  },
  {
   "cell_type": "code",
   "execution_count": 51,
   "metadata": {},
   "outputs": [
    {
     "name": "stdout",
     "output_type": "stream",
     "text": [
      "b0 = 825.969696969697\n",
      "b1 = 1.3251748251748252\n",
      "mse = 6094.64966977467\n",
      "y_hat = [827.2948717948718, 828.6200466200467, 829.9452214452215, 831.2703962703963, 832.5955710955711, 833.920745920746, 835.2459207459208, 836.5710955710956, 837.8962703962704, 839.2214452214453, 840.5466200466201, 841.8717948717949]\n"
     ]
    }
   ],
   "source": [
    "e, y_hat = evaluate_model(makanan_dataset, linear_regression)\n",
    "print(f'mse = {e}')\n",
    "print(f'y_hat = {y_hat}')"
   ]
  },
  {
   "cell_type": "code",
   "execution_count": 52,
   "metadata": {},
   "outputs": [
    {
     "data": {
      "text/plain": [
       "[<matplotlib.lines.Line2D at 0x1a8e84def10>]"
      ]
     },
     "execution_count": 52,
     "metadata": {},
     "output_type": "execute_result"
    },
    {
     "data": {
      "image/png": "[encoded data removed]",
      "text/plain": [
       "<Figure size 432x288 with 1 Axes>"
      ]
     },
     "metadata": {
      "needs_background": "light"
     },
     "output_type": "display_data"
    }
   ],
   "source": [
    "x = [angka[0] for angka in makanan_dataset]\n",
    "y = [angka[1] for angka in makanan_dataset]\n",
    "\n",
    "plt.plot(x,y,'b*')\n",
    "plt.plot(x,y_hat,'r-')"
   ]
  }
 ],
 "metadata": {
  "kernelspec": {
   "display_name": "Python 3",
   "language": "python",
   "name": "python3"
  },
  "language_info": {
   "codemirror_mode": {
    "name": "ipython",
    "version": 3
   },
   "file_extension": ".py",
   "mimetype": "text/x-python",
   "name": "python",
   "nbconvert_exporter": "python",
   "pygments_lexer": "ipython3",
   "version": "3.8.5"
  }
 },
 "nbformat": 4,
 "nbformat_minor": 2
}
